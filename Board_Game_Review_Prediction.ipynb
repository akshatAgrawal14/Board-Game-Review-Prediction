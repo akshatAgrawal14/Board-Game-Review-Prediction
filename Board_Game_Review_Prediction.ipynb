{
  "nbformat": 4,
  "nbformat_minor": 0,
  "metadata": {
    "colab": {
      "name": "Board Game Review Prediction.ipynb",
      "provenance": []
    },
    "kernelspec": {
      "name": "python3",
      "display_name": "Python 3"
    }
  },
  "cells": [
    {
      "cell_type": "code",
      "metadata": {
        "id": "m4oO9JbcVqdW",
        "colab_type": "code",
        "colab": {}
      },
      "source": [
        "import sys\n",
        "import pandas as pd\n",
        "import matplotlib.pyplot as plt\n",
        "import seaborn as sns\n",
        "import sklearn\n",
        "from sklearn.model_selection import train_test_split"
      ],
      "execution_count": 0,
      "outputs": []
    },
    {
      "cell_type": "code",
      "metadata": {
        "id": "hbnRTUiGUzRx",
        "colab_type": "code",
        "colab": {}
      },
      "source": [
        "url = 'https://raw.githubusercontent.com/ThaWeatherman/scrapers/master/boardgamegeek/games.csv'\n",
        "games = pd.read_csv(url)"
      ],
      "execution_count": 0,
      "outputs": []
    },
    {
      "cell_type": "code",
      "metadata": {
        "id": "Q6f3GcuLXONg",
        "colab_type": "code",
        "colab": {
          "base_uri": "https://localhost:8080/",
          "height": 121
        },
        "outputId": "4aed4bd0-806f-4bed-8a40-f43317a1e21b"
      },
      "source": [
        "games.columns"
      ],
      "execution_count": 4,
      "outputs": [
        {
          "output_type": "execute_result",
          "data": {
            "text/plain": [
              "Index(['id', 'type', 'name', 'yearpublished', 'minplayers', 'maxplayers',\n",
              "       'playingtime', 'minplaytime', 'maxplaytime', 'minage', 'users_rated',\n",
              "       'average_rating', 'bayes_average_rating', 'total_owners',\n",
              "       'total_traders', 'total_wanters', 'total_wishers', 'total_comments',\n",
              "       'total_weights', 'average_weight'],\n",
              "      dtype='object')"
            ]
          },
          "metadata": {
            "tags": []
          },
          "execution_count": 4
        }
      ]
    },
    {
      "cell_type": "code",
      "metadata": {
        "id": "P2GNlKafaYvq",
        "colab_type": "code",
        "colab": {
          "base_uri": "https://localhost:8080/",
          "height": 35
        },
        "outputId": "bf5a0784-8a69-4613-8a9a-74933fa6161f"
      },
      "source": [
        "games.shape"
      ],
      "execution_count": 5,
      "outputs": [
        {
          "output_type": "execute_result",
          "data": {
            "text/plain": [
              "(81312, 20)"
            ]
          },
          "metadata": {
            "tags": []
          },
          "execution_count": 5
        }
      ]
    },
    {
      "cell_type": "code",
      "metadata": {
        "id": "pSqor7aaaaet",
        "colab_type": "code",
        "colab": {
          "base_uri": "https://localhost:8080/",
          "height": 265
        },
        "outputId": "def20b3d-9866-4c35-9264-8f48f218717d"
      },
      "source": [
        "plt.hist(games['average_rating'])\n",
        "plt.show()"
      ],
      "execution_count": 6,
      "outputs": [
        {
          "output_type": "display_data",
          "data": {
            "image/png": "[encoded data removed]",
            "text/plain": [
              "<Figure size 432x288 with 1 Axes>"
            ]
          },
          "metadata": {
            "tags": []
          }
        }
      ]
    },
    {
      "cell_type": "code",
      "metadata": {
        "id": "dRuwdhlJaopo",
        "colab_type": "code",
        "colab": {
          "base_uri": "https://localhost:8080/",
          "height": 381
        },
        "outputId": "f173a4e8-84d1-4765-fc51-512b666652b6"
      },
      "source": [
        "games[games['average_rating']==0].iloc[0]"
      ],
      "execution_count": 7,
      "outputs": [
        {
          "output_type": "execute_result",
          "data": {
            "text/plain": [
              "id                             318\n",
              "type                     boardgame\n",
              "name                    Looney Leo\n",
              "yearpublished                    0\n",
              "minplayers                       0\n",
              "maxplayers                       0\n",
              "playingtime                      0\n",
              "minplaytime                      0\n",
              "maxplaytime                      0\n",
              "minage                           0\n",
              "users_rated                      0\n",
              "average_rating                   0\n",
              "bayes_average_rating             0\n",
              "total_owners                     0\n",
              "total_traders                    0\n",
              "total_wanters                    0\n",
              "total_wishers                    1\n",
              "total_comments                   0\n",
              "total_weights                    0\n",
              "average_weight                   0\n",
              "Name: 13048, dtype: object"
            ]
          },
          "metadata": {
            "tags": []
          },
          "execution_count": 7
        }
      ]
    },
    {
      "cell_type": "code",
      "metadata": {
        "id": "SR5q4xXtbX7I",
        "colab_type": "code",
        "colab": {
          "base_uri": "https://localhost:8080/",
          "height": 381
        },
        "outputId": "a5295ced-6896-4f15-ab29-ce6008412b7d"
      },
      "source": [
        "games[games['average_rating']!=0].iloc[0]"
      ],
      "execution_count": 8,
      "outputs": [
        {
          "output_type": "execute_result",
          "data": {
            "text/plain": [
              "id                                  12333\n",
              "type                            boardgame\n",
              "name                    Twilight Struggle\n",
              "yearpublished                        2005\n",
              "minplayers                              2\n",
              "maxplayers                              2\n",
              "playingtime                           180\n",
              "minplaytime                           180\n",
              "maxplaytime                           180\n",
              "minage                                 13\n",
              "users_rated                         20113\n",
              "average_rating                    8.33774\n",
              "bayes_average_rating              8.22186\n",
              "total_owners                        26647\n",
              "total_traders                         372\n",
              "total_wanters                        1219\n",
              "total_wishers                        5865\n",
              "total_comments                       5347\n",
              "total_weights                        2562\n",
              "average_weight                     3.4785\n",
              "Name: 0, dtype: object"
            ]
          },
          "metadata": {
            "tags": []
          },
          "execution_count": 8
        }
      ]
    },
    {
      "cell_type": "code",
      "metadata": {
        "id": "ziNAeR3gdCyy",
        "colab_type": "code",
        "colab": {}
      },
      "source": [
        "games=games[games['users_rated']>0]"
      ],
      "execution_count": 0,
      "outputs": []
    },
    {
      "cell_type": "code",
      "metadata": {
        "id": "CEVXFZA2rFGj",
        "colab_type": "code",
        "colab": {}
      },
      "source": [
        "games=games.dropna(axis=0)"
      ],
      "execution_count": 0,
      "outputs": []
    },
    {
      "cell_type": "code",
      "metadata": {
        "id": "6DpFagS2r-2h",
        "colab_type": "code",
        "colab": {
          "base_uri": "https://localhost:8080/",
          "height": 35
        },
        "outputId": "f6d61059-1468-4206-efda-6ca9eefb8368"
      },
      "source": [
        "games.shape"
      ],
      "execution_count": 11,
      "outputs": [
        {
          "output_type": "execute_result",
          "data": {
            "text/plain": [
              "(56894, 20)"
            ]
          },
          "metadata": {
            "tags": []
          },
          "execution_count": 11
        }
      ]
    },
    {
      "cell_type": "code",
      "metadata": {
        "id": "DQvXdyT-sB9w",
        "colab_type": "code",
        "colab": {
          "base_uri": "https://localhost:8080/",
          "height": 265
        },
        "outputId": "dd4ff650-79dc-4602-c43a-a2109bdc080d"
      },
      "source": [
        "plt.hist(games['average_rating'])\n",
        "plt.show()"
      ],
      "execution_count": 13,
      "outputs": [
        {
          "output_type": "display_data",
          "data": {
            "image/png": "[encoded data removed]",
            "text/plain": [
              "<Figure size 432x288 with 1 Axes>"
            ]
          },
          "metadata": {
            "tags": []
          }
        }
      ]
    },
    {
      "cell_type": "code",
      "metadata": {
        "id": "lNYaSzSywOAA",
        "colab_type": "code",
        "colab": {
          "base_uri": "https://localhost:8080/",
          "height": 647
        },
        "outputId": "1b975e01-b52a-420c-e3a2-1b2462ac3e26"
      },
      "source": [
        "corrmat=games.corr()\n",
        "fig=plt.figure(figsize=(10,10))\n",
        "sns.heatmap(corrmat,square=True)\n",
        "plt.show()"
      ],
      "execution_count": 22,
      "outputs": [
        {
          "output_type": "display_data",
          "data": {
            "image/png": "[encoded data removed]",
            "text/plain": [
              "<Figure size 720x720 with 2 Axes>"
            ]
          },
          "metadata": {
            "tags": []
          }
        }
      ]
    },
    {
      "cell_type": "code",
      "metadata": {
        "id": "GV4AcII2w46E",
        "colab_type": "code",
        "colab": {}
      },
      "source": [
        "columns=games.columns.tolist()\n",
        "\n",
        "columns =[c for c in columns if c not in ['bayes_average_rating','id','average_rating','type','name']]\n",
        "\n",
        "target='average_rating'"
      ],
      "execution_count": 0,
      "outputs": []
    },
    {
      "cell_type": "code",
      "metadata": {
        "id": "uOOYQfK2yf4d",
        "colab_type": "code",
        "colab": {}
      },
      "source": [
        "train=games.sample(frac=0.8,random_state=1)"
      ],
      "execution_count": 0,
      "outputs": []
    },
    {
      "cell_type": "code",
      "metadata": {
        "id": "CtgYNRWwz1IY",
        "colab_type": "code",
        "colab": {}
      },
      "source": [
        "#select anything not in the training set and put it in test set\n",
        "test=games.loc[~games.index.isin(train.index)]"
      ],
      "execution_count": 0,
      "outputs": []
    },
    {
      "cell_type": "code",
      "metadata": {
        "id": "-x0YxGCg0gDb",
        "colab_type": "code",
        "colab": {
          "base_uri": "https://localhost:8080/",
          "height": 52
        },
        "outputId": "315eb3e2-7594-42a0-d0d4-e59f7600bc6f"
      },
      "source": [
        "print(train.shape)\n",
        "print(test.shape)"
      ],
      "execution_count": 28,
      "outputs": [
        {
          "output_type": "stream",
          "text": [
            "(45515, 20)\n",
            "(11379, 20)\n"
          ],
          "name": "stdout"
        }
      ]
    },
    {
      "cell_type": "code",
      "metadata": {
        "id": "DxVxQZhY0nL_",
        "colab_type": "code",
        "colab": {
          "base_uri": "https://localhost:8080/",
          "height": 35
        },
        "outputId": "8e1a7076-4648-4478-d92d-8a876d6f3be4"
      },
      "source": [
        "games.index.isin(train.index)"
      ],
      "execution_count": 32,
      "outputs": [
        {
          "output_type": "execute_result",
          "data": {
            "text/plain": [
              "array([ True,  True,  True, ...,  True, False, False])"
            ]
          },
          "metadata": {
            "tags": []
          },
          "execution_count": 32
        }
      ]
    },
    {
      "cell_type": "markdown",
      "metadata": {
        "id": "jnPLLHiO4FIS",
        "colab_type": "text"
      },
      "source": [
        "### Trying the Linear Regression model"
      ]
    },
    {
      "cell_type": "code",
      "metadata": {
        "id": "FXM1kG0d2e-W",
        "colab_type": "code",
        "colab": {}
      },
      "source": [
        "from sklearn.linear_model import LinearRegression\n",
        "from sklearn.metrics import mean_squared_error"
      ],
      "execution_count": 0,
      "outputs": []
    },
    {
      "cell_type": "code",
      "metadata": {
        "id": "g_loGZvN3Wfg",
        "colab_type": "code",
        "colab": {
          "base_uri": "https://localhost:8080/",
          "height": 35
        },
        "outputId": "1fdffd68-5e16-4c35-d330-689e9776ad58"
      },
      "source": [
        "lr=LinearRegression()\n",
        "\n",
        "lr.fit(train[columns],train[target])"
      ],
      "execution_count": 34,
      "outputs": [
        {
          "output_type": "execute_result",
          "data": {
            "text/plain": [
              "LinearRegression(copy_X=True, fit_intercept=True, n_jobs=None, normalize=False)"
            ]
          },
          "metadata": {
            "tags": []
          },
          "execution_count": 34
        }
      ]
    },
    {
      "cell_type": "code",
      "metadata": {
        "id": "Jojj71aP3mDW",
        "colab_type": "code",
        "colab": {}
      },
      "source": [
        "predictions=lr.predict(test[columns])"
      ],
      "execution_count": 0,
      "outputs": []
    },
    {
      "cell_type": "code",
      "metadata": {
        "id": "JSto3uED31mm",
        "colab_type": "code",
        "colab": {
          "base_uri": "https://localhost:8080/",
          "height": 35
        },
        "outputId": "701a0234-c98b-473a-b075-6afbf5febc21"
      },
      "source": [
        "mean_squared_error(predictions,test[target])"
      ],
      "execution_count": 36,
      "outputs": [
        {
          "output_type": "execute_result",
          "data": {
            "text/plain": [
              "2.078819032629323"
            ]
          },
          "metadata": {
            "tags": []
          },
          "execution_count": 36
        }
      ]
    },
    {
      "cell_type": "markdown",
      "metadata": {
        "id": "w97618gk4RHA",
        "colab_type": "text"
      },
      "source": [
        "### Trying the Random Forest model"
      ]
    },
    {
      "cell_type": "code",
      "metadata": {
        "id": "5DLIiPBL3934",
        "colab_type": "code",
        "colab": {}
      },
      "source": [
        "from sklearn.ensemble import RandomForestRegressor"
      ],
      "execution_count": 0,
      "outputs": []
    },
    {
      "cell_type": "code",
      "metadata": {
        "id": "sElRuKpG4hhR",
        "colab_type": "code",
        "colab": {
          "base_uri": "https://localhost:8080/",
          "height": 139
        },
        "outputId": "a8b391e5-4af8-4b64-8310-92ab13888af8"
      },
      "source": [
        "rfr=RandomForestRegressor(n_estimators=100,min_samples_leaf=10,random_state=1)\n",
        "\n",
        "rfr.fit(train[columns],train[target])"
      ],
      "execution_count": 38,
      "outputs": [
        {
          "output_type": "execute_result",
          "data": {
            "text/plain": [
              "RandomForestRegressor(bootstrap=True, ccp_alpha=0.0, criterion='mse',\n",
              "                      max_depth=None, max_features='auto', max_leaf_nodes=None,\n",
              "                      max_samples=None, min_impurity_decrease=0.0,\n",
              "                      min_impurity_split=None, min_samples_leaf=10,\n",
              "                      min_samples_split=2, min_weight_fraction_leaf=0.0,\n",
              "                      n_estimators=100, n_jobs=None, oob_score=False,\n",
              "                      random_state=1, verbose=0, warm_start=False)"
            ]
          },
          "metadata": {
            "tags": []
          },
          "execution_count": 38
        }
      ]
    },
    {
      "cell_type": "code",
      "metadata": {
        "id": "vuGPIgZm4-Sx",
        "colab_type": "code",
        "colab": {}
      },
      "source": [
        "predictions=rfr.predict(test[columns])"
      ],
      "execution_count": 0,
      "outputs": []
    },
    {
      "cell_type": "code",
      "metadata": {
        "id": "8Mj8ihjx5eZ6",
        "colab_type": "code",
        "colab": {
          "base_uri": "https://localhost:8080/",
          "height": 35
        },
        "outputId": "cfc6adbb-df76-49e2-9267-021dd02b7190"
      },
      "source": [
        "mean_squared_error(predictions,test[target])"
      ],
      "execution_count": 40,
      "outputs": [
        {
          "output_type": "execute_result",
          "data": {
            "text/plain": [
              "1.4458560046071653"
            ]
          },
          "metadata": {
            "tags": []
          },
          "execution_count": 40
        }
      ]
    }
  ]
}